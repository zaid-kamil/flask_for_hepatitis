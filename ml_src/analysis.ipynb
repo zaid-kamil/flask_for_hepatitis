{
 "cells": [
  {
   "cell_type": "code",
   "execution_count": 2,
   "metadata": {},
   "outputs": [],
   "source": [
    "import pandas as pd\n",
    "import numpy as np\n",
    "import seaborn as sns\n",
    "import matplotlib.pyplot as plt\n",
    "\n",
    "from sklearn.preprocessing import StandardScaler\n",
    "from sklearn.model_selection import train_test_split\n",
    "from sklearn.metrics import accuracy_score\n",
    "from sklearn.metrics import confusion_matrix\n",
    "from joblib import dump\n",
    "\n",
    "from sklearn.linear_model import LogisticRegression\n",
    "from sklearn.tree import DecisionTreeClassifier\n",
    "from sklearn.ensemble import RandomForestClassifier\n",
    "from sklearn.neighbors import KNeighborsClassifier\n",
    "from sklearn.svm import SVC\n"
   ]
  },
  {
   "cell_type": "code",
   "execution_count": 51,
   "metadata": {},
   "outputs": [],
   "source": [
    "import plotly.express as px"
   ]
  },
  {
   "cell_type": "code",
   "execution_count": 24,
   "metadata": {},
   "outputs": [
    {
     "data": {
      "text/html": [
       "<div>\n",
       "<style scoped>\n",
       "    .dataframe tbody tr th:only-of-type {\n",
       "        vertical-align: middle;\n",
       "    }\n",
       "\n",
       "    .dataframe tbody tr th {\n",
       "        vertical-align: top;\n",
       "    }\n",
       "\n",
       "    .dataframe thead th {\n",
       "        text-align: right;\n",
       "    }\n",
       "</style>\n",
       "<table border=\"1\" class=\"dataframe\">\n",
       "  <thead>\n",
       "    <tr style=\"text-align: right;\">\n",
       "      <th></th>\n",
       "      <th>class</th>\n",
       "      <th>age</th>\n",
       "      <th>sex</th>\n",
       "      <th>steroid</th>\n",
       "      <th>antivirals</th>\n",
       "      <th>fatigue</th>\n",
       "      <th>malaise</th>\n",
       "      <th>anorexia</th>\n",
       "      <th>liver_big</th>\n",
       "      <th>liver_firm</th>\n",
       "      <th>spleen_palable</th>\n",
       "      <th>spiders</th>\n",
       "      <th>ascites</th>\n",
       "      <th>varices</th>\n",
       "      <th>bilirubin</th>\n",
       "      <th>alk_phosphate</th>\n",
       "      <th>sgot</th>\n",
       "      <th>albumin</th>\n",
       "      <th>protime</th>\n",
       "      <th>histology</th>\n",
       "    </tr>\n",
       "  </thead>\n",
       "  <tbody>\n",
       "    <tr>\n",
       "      <th>0</th>\n",
       "      <td>2</td>\n",
       "      <td>30</td>\n",
       "      <td>2</td>\n",
       "      <td>1</td>\n",
       "      <td>2</td>\n",
       "      <td>2</td>\n",
       "      <td>2</td>\n",
       "      <td>2</td>\n",
       "      <td>1</td>\n",
       "      <td>2</td>\n",
       "      <td>2</td>\n",
       "      <td>2</td>\n",
       "      <td>2</td>\n",
       "      <td>2</td>\n",
       "      <td>1.0</td>\n",
       "      <td>85</td>\n",
       "      <td>18</td>\n",
       "      <td>4.0</td>\n",
       "      <td>61</td>\n",
       "      <td>1</td>\n",
       "    </tr>\n",
       "    <tr>\n",
       "      <th>1</th>\n",
       "      <td>2</td>\n",
       "      <td>50</td>\n",
       "      <td>1</td>\n",
       "      <td>1</td>\n",
       "      <td>2</td>\n",
       "      <td>1</td>\n",
       "      <td>2</td>\n",
       "      <td>2</td>\n",
       "      <td>1</td>\n",
       "      <td>2</td>\n",
       "      <td>2</td>\n",
       "      <td>2</td>\n",
       "      <td>2</td>\n",
       "      <td>2</td>\n",
       "      <td>0.9</td>\n",
       "      <td>135</td>\n",
       "      <td>42</td>\n",
       "      <td>3.5</td>\n",
       "      <td>61</td>\n",
       "      <td>1</td>\n",
       "    </tr>\n",
       "    <tr>\n",
       "      <th>2</th>\n",
       "      <td>2</td>\n",
       "      <td>78</td>\n",
       "      <td>1</td>\n",
       "      <td>2</td>\n",
       "      <td>2</td>\n",
       "      <td>1</td>\n",
       "      <td>2</td>\n",
       "      <td>2</td>\n",
       "      <td>2</td>\n",
       "      <td>2</td>\n",
       "      <td>2</td>\n",
       "      <td>2</td>\n",
       "      <td>2</td>\n",
       "      <td>2</td>\n",
       "      <td>0.7</td>\n",
       "      <td>96</td>\n",
       "      <td>32</td>\n",
       "      <td>4.0</td>\n",
       "      <td>61</td>\n",
       "      <td>1</td>\n",
       "    </tr>\n",
       "    <tr>\n",
       "      <th>3</th>\n",
       "      <td>2</td>\n",
       "      <td>34</td>\n",
       "      <td>1</td>\n",
       "      <td>2</td>\n",
       "      <td>2</td>\n",
       "      <td>2</td>\n",
       "      <td>2</td>\n",
       "      <td>2</td>\n",
       "      <td>2</td>\n",
       "      <td>2</td>\n",
       "      <td>2</td>\n",
       "      <td>2</td>\n",
       "      <td>2</td>\n",
       "      <td>2</td>\n",
       "      <td>1.0</td>\n",
       "      <td>105</td>\n",
       "      <td>200</td>\n",
       "      <td>4.0</td>\n",
       "      <td>61</td>\n",
       "      <td>1</td>\n",
       "    </tr>\n",
       "    <tr>\n",
       "      <th>4</th>\n",
       "      <td>2</td>\n",
       "      <td>34</td>\n",
       "      <td>1</td>\n",
       "      <td>2</td>\n",
       "      <td>2</td>\n",
       "      <td>2</td>\n",
       "      <td>2</td>\n",
       "      <td>2</td>\n",
       "      <td>2</td>\n",
       "      <td>2</td>\n",
       "      <td>2</td>\n",
       "      <td>2</td>\n",
       "      <td>2</td>\n",
       "      <td>2</td>\n",
       "      <td>0.9</td>\n",
       "      <td>95</td>\n",
       "      <td>28</td>\n",
       "      <td>4.0</td>\n",
       "      <td>75</td>\n",
       "      <td>1</td>\n",
       "    </tr>\n",
       "  </tbody>\n",
       "</table>\n",
       "</div>"
      ],
      "text/plain": [
       "   class  age  sex  steroid  antivirals  fatigue  malaise  anorexia  \\\n",
       "0      2   30    2        1           2        2        2         2   \n",
       "1      2   50    1        1           2        1        2         2   \n",
       "2      2   78    1        2           2        1        2         2   \n",
       "3      2   34    1        2           2        2        2         2   \n",
       "4      2   34    1        2           2        2        2         2   \n",
       "\n",
       "   liver_big  liver_firm  spleen_palable  spiders  ascites  varices  \\\n",
       "0          1           2               2        2        2        2   \n",
       "1          1           2               2        2        2        2   \n",
       "2          2           2               2        2        2        2   \n",
       "3          2           2               2        2        2        2   \n",
       "4          2           2               2        2        2        2   \n",
       "\n",
       "   bilirubin  alk_phosphate  sgot  albumin  protime  histology  \n",
       "0        1.0             85    18      4.0       61          1  \n",
       "1        0.9            135    42      3.5       61          1  \n",
       "2        0.7             96    32      4.0       61          1  \n",
       "3        1.0            105   200      4.0       61          1  \n",
       "4        0.9             95    28      4.0       75          1  "
      ]
     },
     "execution_count": 24,
     "metadata": {},
     "output_type": "execute_result"
    }
   ],
   "source": [
    "df = pd.read_csv('hepatitis.csv')\n",
    "df.head()"
   ]
  },
  {
   "cell_type": "code",
   "execution_count": 5,
   "metadata": {},
   "outputs": [
    {
     "data": {
      "text/plain": [
       "class               int64\n",
       "age                 int64\n",
       "sex                 int64\n",
       "steroid             int64\n",
       "antivirals          int64\n",
       "fatigue             int64\n",
       "malaise             int64\n",
       "anorexia            int64\n",
       "liver_big           int64\n",
       "liver_firm          int64\n",
       "spleen_palable      int64\n",
       "spiders             int64\n",
       "ascites             int64\n",
       "varices             int64\n",
       "bilirubin         float64\n",
       "alk_phosphate       int64\n",
       "sgot                int64\n",
       "albumin           float64\n",
       "protime             int64\n",
       "histology           int64\n",
       "dtype: object"
      ]
     },
     "execution_count": 5,
     "metadata": {},
     "output_type": "execute_result"
    }
   ],
   "source": [
    "df.dtypes"
   ]
  },
  {
   "cell_type": "code",
   "execution_count": 6,
   "metadata": {},
   "outputs": [
    {
     "data": {
      "text/plain": [
       "array([2, 1], dtype=int64)"
      ]
     },
     "execution_count": 6,
     "metadata": {},
     "output_type": "execute_result"
    }
   ],
   "source": [
    "df['class'].unique()"
   ]
  },
  {
   "cell_type": "code",
   "execution_count": 7,
   "metadata": {},
   "outputs": [],
   "source": [
    "df['class'].replace((1,2),(0,1),inplace=True)\n",
    "df['class'] = df['class'].astype('bool')"
   ]
  },
  {
   "cell_type": "code",
   "execution_count": 8,
   "metadata": {},
   "outputs": [
    {
     "data": {
      "text/plain": [
       "dtype('bool')"
      ]
     },
     "execution_count": 8,
     "metadata": {},
     "output_type": "execute_result"
    }
   ],
   "source": [
    "df['class'].dtype"
   ]
  },
  {
   "cell_type": "code",
   "execution_count": 9,
   "metadata": {},
   "outputs": [
    {
     "data": {
      "text/html": [
       "<div>\n",
       "<style scoped>\n",
       "    .dataframe tbody tr th:only-of-type {\n",
       "        vertical-align: middle;\n",
       "    }\n",
       "\n",
       "    .dataframe tbody tr th {\n",
       "        vertical-align: top;\n",
       "    }\n",
       "\n",
       "    .dataframe thead th {\n",
       "        text-align: right;\n",
       "    }\n",
       "</style>\n",
       "<table border=\"1\" class=\"dataframe\">\n",
       "  <thead>\n",
       "    <tr style=\"text-align: right;\">\n",
       "      <th></th>\n",
       "      <th>age</th>\n",
       "      <th>sex</th>\n",
       "      <th>steroid</th>\n",
       "      <th>antivirals</th>\n",
       "      <th>fatigue</th>\n",
       "      <th>malaise</th>\n",
       "      <th>anorexia</th>\n",
       "      <th>liver_big</th>\n",
       "      <th>liver_firm</th>\n",
       "      <th>spleen_palable</th>\n",
       "      <th>spiders</th>\n",
       "      <th>ascites</th>\n",
       "      <th>varices</th>\n",
       "      <th>bilirubin</th>\n",
       "      <th>alk_phosphate</th>\n",
       "      <th>sgot</th>\n",
       "      <th>albumin</th>\n",
       "      <th>protime</th>\n",
       "      <th>histology</th>\n",
       "    </tr>\n",
       "  </thead>\n",
       "  <tbody>\n",
       "    <tr>\n",
       "      <th>count</th>\n",
       "      <td>142.000000</td>\n",
       "      <td>142.000000</td>\n",
       "      <td>142.000000</td>\n",
       "      <td>142.000000</td>\n",
       "      <td>142.000000</td>\n",
       "      <td>142.000000</td>\n",
       "      <td>142.000000</td>\n",
       "      <td>142.000000</td>\n",
       "      <td>142.000000</td>\n",
       "      <td>142.000000</td>\n",
       "      <td>142.000000</td>\n",
       "      <td>142.000000</td>\n",
       "      <td>142.000000</td>\n",
       "      <td>142.000000</td>\n",
       "      <td>142.000000</td>\n",
       "      <td>142.000000</td>\n",
       "      <td>142.000000</td>\n",
       "      <td>142.000000</td>\n",
       "      <td>142.000000</td>\n",
       "    </tr>\n",
       "    <tr>\n",
       "      <th>mean</th>\n",
       "      <td>40.816901</td>\n",
       "      <td>1.105634</td>\n",
       "      <td>1.514085</td>\n",
       "      <td>1.838028</td>\n",
       "      <td>1.359155</td>\n",
       "      <td>1.619718</td>\n",
       "      <td>1.795775</td>\n",
       "      <td>1.823944</td>\n",
       "      <td>1.584507</td>\n",
       "      <td>1.809859</td>\n",
       "      <td>1.669014</td>\n",
       "      <td>1.880282</td>\n",
       "      <td>1.880282</td>\n",
       "      <td>1.382958</td>\n",
       "      <td>105.647887</td>\n",
       "      <td>83.507042</td>\n",
       "      <td>3.830493</td>\n",
       "      <td>61.704225</td>\n",
       "      <td>1.443662</td>\n",
       "    </tr>\n",
       "    <tr>\n",
       "      <th>std</th>\n",
       "      <td>12.189182</td>\n",
       "      <td>0.308456</td>\n",
       "      <td>0.501571</td>\n",
       "      <td>0.369729</td>\n",
       "      <td>0.481451</td>\n",
       "      <td>0.487174</td>\n",
       "      <td>0.404561</td>\n",
       "      <td>0.382216</td>\n",
       "      <td>0.494551</td>\n",
       "      <td>0.393801</td>\n",
       "      <td>0.472234</td>\n",
       "      <td>0.325781</td>\n",
       "      <td>0.325781</td>\n",
       "      <td>1.166526</td>\n",
       "      <td>47.375099</td>\n",
       "      <td>82.417700</td>\n",
       "      <td>0.618103</td>\n",
       "      <td>17.696732</td>\n",
       "      <td>0.498575</td>\n",
       "    </tr>\n",
       "    <tr>\n",
       "      <th>min</th>\n",
       "      <td>7.000000</td>\n",
       "      <td>1.000000</td>\n",
       "      <td>1.000000</td>\n",
       "      <td>1.000000</td>\n",
       "      <td>1.000000</td>\n",
       "      <td>1.000000</td>\n",
       "      <td>1.000000</td>\n",
       "      <td>1.000000</td>\n",
       "      <td>1.000000</td>\n",
       "      <td>1.000000</td>\n",
       "      <td>1.000000</td>\n",
       "      <td>1.000000</td>\n",
       "      <td>1.000000</td>\n",
       "      <td>0.300000</td>\n",
       "      <td>26.000000</td>\n",
       "      <td>14.000000</td>\n",
       "      <td>2.100000</td>\n",
       "      <td>0.000000</td>\n",
       "      <td>1.000000</td>\n",
       "    </tr>\n",
       "    <tr>\n",
       "      <th>25%</th>\n",
       "      <td>32.000000</td>\n",
       "      <td>1.000000</td>\n",
       "      <td>1.000000</td>\n",
       "      <td>2.000000</td>\n",
       "      <td>1.000000</td>\n",
       "      <td>1.000000</td>\n",
       "      <td>2.000000</td>\n",
       "      <td>2.000000</td>\n",
       "      <td>1.000000</td>\n",
       "      <td>2.000000</td>\n",
       "      <td>1.000000</td>\n",
       "      <td>2.000000</td>\n",
       "      <td>2.000000</td>\n",
       "      <td>0.700000</td>\n",
       "      <td>78.500000</td>\n",
       "      <td>32.250000</td>\n",
       "      <td>3.500000</td>\n",
       "      <td>56.250000</td>\n",
       "      <td>1.000000</td>\n",
       "    </tr>\n",
       "    <tr>\n",
       "      <th>50%</th>\n",
       "      <td>39.000000</td>\n",
       "      <td>1.000000</td>\n",
       "      <td>2.000000</td>\n",
       "      <td>2.000000</td>\n",
       "      <td>1.000000</td>\n",
       "      <td>2.000000</td>\n",
       "      <td>2.000000</td>\n",
       "      <td>2.000000</td>\n",
       "      <td>2.000000</td>\n",
       "      <td>2.000000</td>\n",
       "      <td>2.000000</td>\n",
       "      <td>2.000000</td>\n",
       "      <td>2.000000</td>\n",
       "      <td>1.000000</td>\n",
       "      <td>100.000000</td>\n",
       "      <td>58.000000</td>\n",
       "      <td>3.900000</td>\n",
       "      <td>61.000000</td>\n",
       "      <td>1.000000</td>\n",
       "    </tr>\n",
       "    <tr>\n",
       "      <th>75%</th>\n",
       "      <td>50.000000</td>\n",
       "      <td>1.000000</td>\n",
       "      <td>2.000000</td>\n",
       "      <td>2.000000</td>\n",
       "      <td>2.000000</td>\n",
       "      <td>2.000000</td>\n",
       "      <td>2.000000</td>\n",
       "      <td>2.000000</td>\n",
       "      <td>2.000000</td>\n",
       "      <td>2.000000</td>\n",
       "      <td>2.000000</td>\n",
       "      <td>2.000000</td>\n",
       "      <td>2.000000</td>\n",
       "      <td>1.480000</td>\n",
       "      <td>119.750000</td>\n",
       "      <td>99.500000</td>\n",
       "      <td>4.200000</td>\n",
       "      <td>66.000000</td>\n",
       "      <td>2.000000</td>\n",
       "    </tr>\n",
       "    <tr>\n",
       "      <th>max</th>\n",
       "      <td>78.000000</td>\n",
       "      <td>2.000000</td>\n",
       "      <td>2.000000</td>\n",
       "      <td>2.000000</td>\n",
       "      <td>2.000000</td>\n",
       "      <td>2.000000</td>\n",
       "      <td>2.000000</td>\n",
       "      <td>2.000000</td>\n",
       "      <td>2.000000</td>\n",
       "      <td>2.000000</td>\n",
       "      <td>2.000000</td>\n",
       "      <td>2.000000</td>\n",
       "      <td>2.000000</td>\n",
       "      <td>8.000000</td>\n",
       "      <td>295.000000</td>\n",
       "      <td>648.000000</td>\n",
       "      <td>6.400000</td>\n",
       "      <td>100.000000</td>\n",
       "      <td>2.000000</td>\n",
       "    </tr>\n",
       "  </tbody>\n",
       "</table>\n",
       "</div>"
      ],
      "text/plain": [
       "              age         sex     steroid  antivirals     fatigue     malaise  \\\n",
       "count  142.000000  142.000000  142.000000  142.000000  142.000000  142.000000   \n",
       "mean    40.816901    1.105634    1.514085    1.838028    1.359155    1.619718   \n",
       "std     12.189182    0.308456    0.501571    0.369729    0.481451    0.487174   \n",
       "min      7.000000    1.000000    1.000000    1.000000    1.000000    1.000000   \n",
       "25%     32.000000    1.000000    1.000000    2.000000    1.000000    1.000000   \n",
       "50%     39.000000    1.000000    2.000000    2.000000    1.000000    2.000000   \n",
       "75%     50.000000    1.000000    2.000000    2.000000    2.000000    2.000000   \n",
       "max     78.000000    2.000000    2.000000    2.000000    2.000000    2.000000   \n",
       "\n",
       "         anorexia   liver_big  liver_firm  spleen_palable     spiders  \\\n",
       "count  142.000000  142.000000  142.000000      142.000000  142.000000   \n",
       "mean     1.795775    1.823944    1.584507        1.809859    1.669014   \n",
       "std      0.404561    0.382216    0.494551        0.393801    0.472234   \n",
       "min      1.000000    1.000000    1.000000        1.000000    1.000000   \n",
       "25%      2.000000    2.000000    1.000000        2.000000    1.000000   \n",
       "50%      2.000000    2.000000    2.000000        2.000000    2.000000   \n",
       "75%      2.000000    2.000000    2.000000        2.000000    2.000000   \n",
       "max      2.000000    2.000000    2.000000        2.000000    2.000000   \n",
       "\n",
       "          ascites     varices   bilirubin  alk_phosphate        sgot  \\\n",
       "count  142.000000  142.000000  142.000000     142.000000  142.000000   \n",
       "mean     1.880282    1.880282    1.382958     105.647887   83.507042   \n",
       "std      0.325781    0.325781    1.166526      47.375099   82.417700   \n",
       "min      1.000000    1.000000    0.300000      26.000000   14.000000   \n",
       "25%      2.000000    2.000000    0.700000      78.500000   32.250000   \n",
       "50%      2.000000    2.000000    1.000000     100.000000   58.000000   \n",
       "75%      2.000000    2.000000    1.480000     119.750000   99.500000   \n",
       "max      2.000000    2.000000    8.000000     295.000000  648.000000   \n",
       "\n",
       "          albumin     protime   histology  \n",
       "count  142.000000  142.000000  142.000000  \n",
       "mean     3.830493   61.704225    1.443662  \n",
       "std      0.618103   17.696732    0.498575  \n",
       "min      2.100000    0.000000    1.000000  \n",
       "25%      3.500000   56.250000    1.000000  \n",
       "50%      3.900000   61.000000    1.000000  \n",
       "75%      4.200000   66.000000    2.000000  \n",
       "max      6.400000  100.000000    2.000000  "
      ]
     },
     "execution_count": 9,
     "metadata": {},
     "output_type": "execute_result"
    }
   ],
   "source": [
    "df.describe()"
   ]
  },
  {
   "cell_type": "code",
   "execution_count": 10,
   "metadata": {},
   "outputs": [],
   "source": [
    "df['age'] = np.where((df['age']<=10),'Children',\n",
    "                    np.where((df['age']>10) & (df['age']<=20), 'Teenagers',\n",
    "                    np.where((df['age']>20) & (df['age']<=30), 'Adults',\n",
    "                    np.where((df['age']>30) & (df['age']<=40), 'Middle-Aged', 'Old'))))\n",
    "\n",
    "df['age'] = pd.Categorical(df.age, ['Children', 'Teenagers', 'Adults', 'Middle-Aged', 'Old'], ordered=True)"
   ]
  },
  {
   "cell_type": "code",
   "execution_count": 11,
   "metadata": {},
   "outputs": [
    {
     "data": {
      "text/plain": [
       "['Adults', 'Old', 'Middle-Aged', 'Teenagers', 'Children']\n",
       "Categories (5, object): ['Children' < 'Teenagers' < 'Adults' < 'Middle-Aged' < 'Old']"
      ]
     },
     "execution_count": 11,
     "metadata": {},
     "output_type": "execute_result"
    }
   ],
   "source": [
    "df['age'].unique()"
   ]
  },
  {
   "cell_type": "code",
   "execution_count": 12,
   "metadata": {},
   "outputs": [
    {
     "data": {
      "image/png": "[encoded data removed]",
      "text/plain": [
       "<Figure size 432x288 with 1 Axes>"
      ]
     },
     "metadata": {
      "needs_background": "light"
     },
     "output_type": "display_data"
    }
   ],
   "source": [
    "sns.barplot(x='age', y='class', data=df)\n",
    "plt.show()"
   ]
  },
  {
   "cell_type": "code",
   "execution_count": null,
   "metadata": {},
   "outputs": [],
   "source": []
  },
  {
   "cell_type": "code",
   "execution_count": 12,
   "metadata": {},
   "outputs": [
    {
     "data": {
      "text/plain": [
       "array([2, 1], dtype=int64)"
      ]
     },
     "execution_count": 12,
     "metadata": {},
     "output_type": "execute_result"
    }
   ],
   "source": [
    "df['sex'].unique()"
   ]
  },
  {
   "cell_type": "code",
   "execution_count": 14,
   "metadata": {},
   "outputs": [
    {
     "data": {
      "text/html": [
       "<div>\n",
       "<style scoped>\n",
       "    .dataframe tbody tr th:only-of-type {\n",
       "        vertical-align: middle;\n",
       "    }\n",
       "\n",
       "    .dataframe tbody tr th {\n",
       "        vertical-align: top;\n",
       "    }\n",
       "\n",
       "    .dataframe thead th {\n",
       "        text-align: right;\n",
       "    }\n",
       "</style>\n",
       "<table border=\"1\" class=\"dataframe\">\n",
       "  <thead>\n",
       "    <tr style=\"text-align: right;\">\n",
       "      <th></th>\n",
       "      <th>class</th>\n",
       "      <th>age</th>\n",
       "      <th>sex</th>\n",
       "      <th>steroid</th>\n",
       "      <th>antivirals</th>\n",
       "      <th>fatigue</th>\n",
       "      <th>malaise</th>\n",
       "      <th>anorexia</th>\n",
       "      <th>liver_big</th>\n",
       "      <th>liver_firm</th>\n",
       "      <th>spleen_palable</th>\n",
       "      <th>spiders</th>\n",
       "      <th>ascites</th>\n",
       "      <th>varices</th>\n",
       "      <th>bilirubin</th>\n",
       "      <th>alk_phosphate</th>\n",
       "      <th>sgot</th>\n",
       "      <th>albumin</th>\n",
       "      <th>protime</th>\n",
       "      <th>histology</th>\n",
       "    </tr>\n",
       "  </thead>\n",
       "  <tbody>\n",
       "    <tr>\n",
       "      <th>0</th>\n",
       "      <td>True</td>\n",
       "      <td>Adults</td>\n",
       "      <td>Female</td>\n",
       "      <td>1</td>\n",
       "      <td>2</td>\n",
       "      <td>2</td>\n",
       "      <td>2</td>\n",
       "      <td>2</td>\n",
       "      <td>1</td>\n",
       "      <td>2</td>\n",
       "      <td>2</td>\n",
       "      <td>2</td>\n",
       "      <td>2</td>\n",
       "      <td>2</td>\n",
       "      <td>1.0</td>\n",
       "      <td>85</td>\n",
       "      <td>18</td>\n",
       "      <td>4.0</td>\n",
       "      <td>61</td>\n",
       "      <td>1</td>\n",
       "    </tr>\n",
       "    <tr>\n",
       "      <th>1</th>\n",
       "      <td>True</td>\n",
       "      <td>Old</td>\n",
       "      <td>Male</td>\n",
       "      <td>1</td>\n",
       "      <td>2</td>\n",
       "      <td>1</td>\n",
       "      <td>2</td>\n",
       "      <td>2</td>\n",
       "      <td>1</td>\n",
       "      <td>2</td>\n",
       "      <td>2</td>\n",
       "      <td>2</td>\n",
       "      <td>2</td>\n",
       "      <td>2</td>\n",
       "      <td>0.9</td>\n",
       "      <td>135</td>\n",
       "      <td>42</td>\n",
       "      <td>3.5</td>\n",
       "      <td>61</td>\n",
       "      <td>1</td>\n",
       "    </tr>\n",
       "    <tr>\n",
       "      <th>2</th>\n",
       "      <td>True</td>\n",
       "      <td>Old</td>\n",
       "      <td>Male</td>\n",
       "      <td>2</td>\n",
       "      <td>2</td>\n",
       "      <td>1</td>\n",
       "      <td>2</td>\n",
       "      <td>2</td>\n",
       "      <td>2</td>\n",
       "      <td>2</td>\n",
       "      <td>2</td>\n",
       "      <td>2</td>\n",
       "      <td>2</td>\n",
       "      <td>2</td>\n",
       "      <td>0.7</td>\n",
       "      <td>96</td>\n",
       "      <td>32</td>\n",
       "      <td>4.0</td>\n",
       "      <td>61</td>\n",
       "      <td>1</td>\n",
       "    </tr>\n",
       "    <tr>\n",
       "      <th>3</th>\n",
       "      <td>True</td>\n",
       "      <td>Middle-Aged</td>\n",
       "      <td>Male</td>\n",
       "      <td>2</td>\n",
       "      <td>2</td>\n",
       "      <td>2</td>\n",
       "      <td>2</td>\n",
       "      <td>2</td>\n",
       "      <td>2</td>\n",
       "      <td>2</td>\n",
       "      <td>2</td>\n",
       "      <td>2</td>\n",
       "      <td>2</td>\n",
       "      <td>2</td>\n",
       "      <td>1.0</td>\n",
       "      <td>105</td>\n",
       "      <td>200</td>\n",
       "      <td>4.0</td>\n",
       "      <td>61</td>\n",
       "      <td>1</td>\n",
       "    </tr>\n",
       "    <tr>\n",
       "      <th>4</th>\n",
       "      <td>True</td>\n",
       "      <td>Middle-Aged</td>\n",
       "      <td>Male</td>\n",
       "      <td>2</td>\n",
       "      <td>2</td>\n",
       "      <td>2</td>\n",
       "      <td>2</td>\n",
       "      <td>2</td>\n",
       "      <td>2</td>\n",
       "      <td>2</td>\n",
       "      <td>2</td>\n",
       "      <td>2</td>\n",
       "      <td>2</td>\n",
       "      <td>2</td>\n",
       "      <td>0.9</td>\n",
       "      <td>95</td>\n",
       "      <td>28</td>\n",
       "      <td>4.0</td>\n",
       "      <td>75</td>\n",
       "      <td>1</td>\n",
       "    </tr>\n",
       "  </tbody>\n",
       "</table>\n",
       "</div>"
      ],
      "text/plain": [
       "   class          age     sex  steroid  antivirals  fatigue  malaise  \\\n",
       "0   True       Adults  Female        1           2        2        2   \n",
       "1   True          Old    Male        1           2        1        2   \n",
       "2   True          Old    Male        2           2        1        2   \n",
       "3   True  Middle-Aged    Male        2           2        2        2   \n",
       "4   True  Middle-Aged    Male        2           2        2        2   \n",
       "\n",
       "   anorexia  liver_big  liver_firm  spleen_palable  spiders  ascites  varices  \\\n",
       "0         2          1           2               2        2        2        2   \n",
       "1         2          1           2               2        2        2        2   \n",
       "2         2          2           2               2        2        2        2   \n",
       "3         2          2           2               2        2        2        2   \n",
       "4         2          2           2               2        2        2        2   \n",
       "\n",
       "   bilirubin  alk_phosphate  sgot  albumin  protime  histology  \n",
       "0        1.0             85    18      4.0       61          1  \n",
       "1        0.9            135    42      3.5       61          1  \n",
       "2        0.7             96    32      4.0       61          1  \n",
       "3        1.0            105   200      4.0       61          1  \n",
       "4        0.9             95    28      4.0       75          1  "
      ]
     },
     "execution_count": 14,
     "metadata": {},
     "output_type": "execute_result"
    }
   ],
   "source": [
    "df['sex'].replace((1,2),('Male','Female'), inplace=True)\n",
    "df['sex'] = pd.Categorical(df.sex, ['Male', 'Female'], ordered=False)\n",
    "df.head()"
   ]
  },
  {
   "cell_type": "code",
   "execution_count": 15,
   "metadata": {},
   "outputs": [
    {
     "data": {
      "image/png": "[encoded data removed]",
      "text/plain": [
       "<Figure size 432x288 with 1 Axes>"
      ]
     },
     "metadata": {
      "needs_background": "light"
     },
     "output_type": "display_data"
    }
   ],
   "source": [
    "sns.barplot(x='sex', y='class', data=df)\n",
    "plt.show()"
   ]
  },
  {
   "cell_type": "code",
   "execution_count": 16,
   "metadata": {},
   "outputs": [
    {
     "data": {
      "text/plain": [
       "Index(['class', 'age', 'sex', 'steroid', 'antivirals', 'fatigue', 'malaise',\n",
       "       'anorexia', 'liver_big', 'liver_firm', 'spleen_palable', 'spiders',\n",
       "       'ascites', 'varices', 'bilirubin', 'alk_phosphate', 'sgot', 'albumin',\n",
       "       'protime', 'histology'],\n",
       "      dtype='object')"
      ]
     },
     "execution_count": 16,
     "metadata": {},
     "output_type": "execute_result"
    }
   ],
   "source": [
    "df.columns"
   ]
  },
  {
   "cell_type": "code",
   "execution_count": 17,
   "metadata": {},
   "outputs": [
    {
     "data": {
      "text/plain": [
       "Index(['class', 'steroid', 'antivirals', 'fatigue', 'malaise', 'anorexia',\n",
       "       'liver_big', 'liver_firm', 'spleen_palable', 'spiders', 'ascites',\n",
       "       'varices', 'bilirubin', 'alk_phosphate', 'sgot', 'albumin', 'protime',\n",
       "       'histology', 'age_Children', 'age_Teenagers', 'age_Adults',\n",
       "       'age_Middle-Aged', 'age_Old', 'sex_Male', 'sex_Female'],\n",
       "      dtype='object')"
      ]
     },
     "execution_count": 17,
     "metadata": {},
     "output_type": "execute_result"
    }
   ],
   "source": [
    "sep = pd.get_dummies(df)\n",
    "sep.columns"
   ]
  },
  {
   "cell_type": "code",
   "execution_count": 18,
   "metadata": {},
   "outputs": [
    {
     "name": "stdout",
     "output_type": "stream",
     "text": [
      "(142, 24) (142,)\n"
     ]
    }
   ],
   "source": [
    "X=sep.iloc[:,1:]\n",
    "y=sep['class']\n",
    "print(X.shape, y.shape)"
   ]
  },
  {
   "cell_type": "code",
   "execution_count": 19,
   "metadata": {},
   "outputs": [],
   "source": [
    "scaler = StandardScaler()\n",
    "scaledX = scaler.fit_transform(X)\n",
    "xtrain, xtest, ytrain, ytest = train_test_split(scaledX, y, test_size=.2, random_state=1234)"
   ]
  },
  {
   "cell_type": "code",
   "execution_count": null,
   "metadata": {},
   "outputs": [],
   "source": [
    "sns.set(rc={'figure.figsize':(20,5)})\n",
    "for col in df.columns:\n",
    "    if col != 'class':\n",
    "        sns.barplot(x=col, y='class', data=df,)\n",
    "    plt.show()"
   ]
  },
  {
   "cell_type": "code",
   "execution_count": null,
   "metadata": {},
   "outputs": [],
   "source": [
    "sns.set(rc={'figure.figsize':(20,5)})\n",
    "for col in df.columns:\n",
    "    if col != 'class':\n",
    "        sns.countplot(x=col,hue='class', data=df)\n",
    "    plt.show()"
   ]
  },
  {
   "cell_type": "code",
   "execution_count": 56,
   "metadata": {},
   "outputs": [
    {
     "data": {
      "application/vnd.plotly.v1+json": {
       "config": {
        "plotlyServerURL": "https://plot.ly"
       },
       "data": [
        {
         "hovertemplate": "color=True<br>symbol=True<br>x=%{x}<br>y=%{y}<br>z=%{z}<extra></extra>",
         "legendgroup": "True, True",
         "marker": {
          "color": "#636efa",
          "symbol": "circle"
         },
         "mode": "markers",
         "name": "True, True",
         "scene": "scene",
         "showlegend": true,
         "type": "scatter3d",
         "x": [
          -2.142061222804368,
          -0.2788850593740524,
          -1.1339295462991883,
          -1.9601417396381746,
          -2.4912571688741836,
          -2.109720147560874,
          -1.5292909200095182,
          -2.0970889501753596,
          -2.3743362512531094,
          -0.5165268577408281,
          -0.872063510792363,
          -1.7320968573028133,
          -1.4848139033838696,
          1.4710810294273235,
          -1.094270743741541,
          -1.2217187520757455,
          -2.3699082026471294,
          -2.191498902051234,
          -2.5161795727043144,
          1.6387514938543788,
          -2.8290937064589614,
          -1.9939007341064992,
          -3.21911229729201,
          -1.3779870524883913,
          1.044821259432537,
          1.408552530439225,
          -0.738388881153103,
          -0.8261841384271181,
          -1.033720981931328,
          -1.7016576183621068,
          -2.0950915308873785,
          0.2187061365868879,
          2.637386870749436,
          -2.043947911960358,
          3.073627310340763,
          -1.439465197552536,
          -2.624504995805676,
          -1.788094996659109,
          -1.9461032946531007,
          -1.4009726299088932,
          -1.077787443764992,
          1.0149558598695099,
          -2.151892299028087,
          -0.3167860775371069,
          -2.1522180712150387,
          -2.359071835910412,
          -1.8135723288618042,
          -1.6390574047157687,
          -2.2240365652497927,
          -0.28691084448971593,
          -2.752062563119161,
          -0.5840291239943546,
          0.1990541240032563,
          -3.3858774649614336,
          -2.628953456463179,
          2.9572791118446653,
          -0.15652348016797996,
          -0.26288508177645553,
          -2.4388577673249725,
          -1.2208955015128193,
          -1.9333258947417138,
          -0.06279691268785986,
          -2.6005414687383017,
          0.12343188988732803,
          -2.0576682300049036,
          -1.3827806527589706,
          -2.7282509965305146,
          -0.5547411196159328,
          -2.931295648259674,
          -1.0238914893235538,
          -2.7790893219447335,
          -2.7029939866243993,
          1.1058602750143005,
          0.18866786774916114,
          0.005899955299259986,
          2.5461442115499406,
          -0.16830278414921468,
          -0.06790255632147889,
          0.5283058877741894,
          2.360237527833265,
          1.556870750392642,
          -1.7629327598001685,
          0.8063355102367988,
          5.212146062120205,
          -3.094220988354081,
          2.3030774283782534,
          0.031888807710737654,
          -0.13537106510706623,
          -0.422461984430368,
          0.46447079192889795,
          -0.9190218051026947,
          0.3504839754869839,
          -1.0528804934630474,
          -0.7987797158461346,
          0.6190194638080537,
          3.8617179052557056,
          -0.5005458769520165,
          -0.12429674753474164,
          0.24036328675390706,
          0.4128309803367041,
          1.5815952207400532,
          -0.706927337564746,
          2.7453510405541985,
          0.11153289003620338,
          2.6884832359174746,
          -0.17481140188954664,
          0.954079197278868,
          -1.7680856541793752,
          4.102406881300945,
          1.9527884751374964,
          -0.4601992512456719,
          -0.7592469683523794,
          -1.7482303203495932,
          -0.011488457836632876,
          0.8555318923294544,
          1.6802645140039274
         ],
         "y": [
          4.056884047972318,
          0.05337063193386244,
          -0.7215214231816292,
          -1.097808200917538,
          -1.1714804816333817,
          -0.5896628189288335,
          -0.46205334626712946,
          -0.5592135183711792,
          0.3997998424809915,
          -0.012172694948355458,
          -0.02024169978461673,
          0.12511527160396047,
          -0.43057848928025383,
          -1.1296503873683397,
          -0.686266022240865,
          -0.29527198959174444,
          -1.4542786973068162,
          0.35562899126734243,
          3.897023594449072,
          1.3991083399984987,
          -1.157165582562688,
          -0.960154209077328,
          3.892431375075637,
          0.10859254433655291,
          0.730509880267174,
          3.560592465942414,
          0.41077726141072174,
          0.09489945304022945,
          4.063018136182299,
          3.9246091762371798,
          -0.8837242710762002,
          0.4791180937618053,
          6.019472113316227,
          -0.7530648976893157,
          -0.6145129842682804,
          -0.4718913061389803,
          -1.183109716995959,
          -0.4278484807539495,
          -1.2049916522550186,
          -0.07803877094573872,
          -0.44932836103170287,
          4.261278513573277,
          -0.707962477528221,
          0.11352642355466186,
          -0.9718230430105087,
          -1.2170559181174463,
          -0.8375211061696293,
          0.056371595724761976,
          -0.3114307781273247,
          -0.34868707228217855,
          -0.2949643880405243,
          0.8025235044281908,
          3.720521021925047,
          -1.1362361192280954,
          -1.1093234489460801,
          -0.8348591773852029,
          0.13109723874984697,
          -0.6020631264305568,
          -0.5461393133725334,
          -0.9647355505271298,
          -1.0351402584275784,
          -0.4434151709683042,
          -0.5649099975166739,
          0.04169111780566651,
          -0.8078976191109103,
          -0.19839051508316555,
          3.603675101487208,
          0.4260967768382263,
          -0.47271532927100146,
          0.163522954100294,
          -1.0437487167801993,
          -0.3006149743860484,
          3.9467072425892114,
          0.5348364190212791,
          0.41345787086975033,
          4.535203660793968,
          -1.2106784309876226,
          0.7116753155119958,
          0.5034107636991185,
          0.3566428576883753,
          0.4888892927472968,
          -0.8727859756782818,
          -0.022875319860789136,
          0.025458188273734948,
          -0.48955193882275,
          -0.19850833193592576,
          0.40185380398765774,
          -0.6628488060594394,
          -0.8041008286858977,
          -0.10952412420229603,
          -1.262951758698164,
          2.818105720997325,
          -0.3527598112616647,
          -1.202037177974081,
          -0.2294967687282311,
          0.0802444040095428,
          -1.142488679733801,
          -0.6487813143599378,
          -0.5212688216560203,
          4.214383425712093,
          -1.279789358434506,
          -1.3154161472067483,
          0.02148394893409825,
          -0.32391084845162277,
          0.05570631780506614,
          -0.07194366517532744,
          -1.2932758901607933,
          -0.8570817499044247,
          0.22628541151899945,
          -1.1285608530934528,
          -0.5593787764969979,
          -0.036728644310382495,
          -1.4080201714829725,
          -0.4912574362946523,
          0.11510250269277383,
          3.050001799285559
         ],
         "z": [
          -0.9169997032252234,
          -0.3283973985775188,
          -1.2707066089589225,
          0.5077210289061855,
          0.44638930716096936,
          -0.8217145225822943,
          1.0186193702949866,
          -0.7749715397149656,
          2.2391373948635223,
          1.5772807719371846,
          -0.6486374912133388,
          0.2368612379600665,
          -0.7925997103358579,
          2.376006691501772,
          -1.2202673397901596,
          1.6521485400952776,
          0.25460746005332285,
          1.9787307545402104,
          -1.1803502508293917,
          1.2406503406681606,
          0.7041271336683725,
          -1.6435972689288052,
          -1.0059359113722088,
          0.9135165757387367,
          1.432792839327944,
          -2.1977326686042598,
          0.47598400448392175,
          0.08038970363718728,
          -0.24822938881398468,
          -1.142575061429463,
          0.8791884992179941,
          0.8497758827145506,
          1.4884497300034918,
          -0.7501110187265113,
          -1.2251803143856708,
          -1.2001583724292877,
          0.42730028689268906,
          -0.39266434705255854,
          0.3734766310959162,
          0.17434297509274888,
          1.2305190385314517,
          -0.36775050699757633,
          0.5389737603016085,
          2.7052072049863662,
          0.8067348092555668,
          0.30387182558072795,
          -1.3695005411408194,
          1.223321125354167,
          -0.31296317602453944,
          2.6296564170480705,
          -0.6231970355545763,
          0.6831348796747312,
          -1.6754304475410249,
          0.8093523343834799,
          0.6324418195688611,
          1.572164801758263,
          0.8468412521848557,
          -0.6397711490867602,
          -0.8675808330211506,
          -1.1644100251212068,
          0.5984690781269962,
          -0.14177742093284287,
          -0.8440046001632399,
          2.930844145833778,
          -1.4394872072126237,
          2.004879504274605,
          0.6022995687527046,
          2.0466873545444133,
          -0.8319477293316068,
          0.9718454661055751,
          0.9701052446744775,
          -0.02696099721058991,
          -1.179911182264259,
          1.7985825545025957,
          3.3802551990497007,
          -1.9634310305821678,
          -1.4752313606465313,
          3.5992365743844523,
          1.049672403200471,
          0.44561069928511843,
          -0.7055778883219068,
          -1.2477535637864512,
          0.16388775844398304,
          0.18229276969958638,
          -1.1209043447289158,
          1.1384248108737651,
          -0.05992582017635433,
          -2.859749350334958,
          -1.1400276804659617,
          -0.9373620919146863,
          0.4139450256704731,
          -2.4478998011507516,
          -0.42253196184953445,
          -1.904314272196645,
          -0.665308385722249,
          1.2155520647013454,
          -2.4114789953234133,
          1.0638766196535778,
          -1.8489913225950187,
          2.1339143034810713,
          -0.604935138586395,
          -2.533654608216554,
          0.5934293879488153,
          -1.0670157153097193,
          -0.7853343324058594,
          -0.9921952317318617,
          0.13500788428487248,
          -1.3358519689890096,
          2.7459623785273495,
          -2.3878442684144874,
          1.2441611717718526,
          -0.003940304039692079,
          -0.06592072271557496,
          -1.1277286427069217,
          0.024161825126472313,
          -3.015743817779913
         ]
        },
        {
         "hovertemplate": "color=False<br>symbol=False<br>x=%{x}<br>y=%{y}<br>z=%{z}<extra></extra>",
         "legendgroup": "False, False",
         "marker": {
          "color": "#EF553B",
          "symbol": "diamond"
         },
         "mode": "markers",
         "name": "False, False",
         "scene": "scene",
         "showlegend": true,
         "type": "scatter3d",
         "x": [
          1.12780358028458,
          0.8520668785109973,
          -1.3670799551155624,
          3.0671243712006824,
          1.254391598514756,
          1.9155085854723621,
          2.0745592989373987,
          4.085286088041023,
          3.661349735003516,
          4.1349380030961616,
          2.5895039687739643,
          0.4203033179504474,
          5.323384680779153,
          3.4048934997443374,
          1.1689714385445684,
          0.868143811755157,
          2.6743346200789833,
          3.9782333774856617,
          3.382307222649914,
          3.487613629358358,
          -0.8812776035689281,
          4.230547449366958,
          2.030256385651787,
          3.385362682824421,
          5.9607497536805205,
          2.175235405493679
         ],
         "y": [
          0.02849041738362221,
          0.38696766874433225,
          -0.7547858112931648,
          -1.0860609348811192,
          0.5713080914332436,
          0.6247998094109707,
          -0.7499238257587486,
          -0.7411865633445276,
          -1.1364195809636655,
          -0.6815443488011584,
          0.07798281127495338,
          -1.5054623614558467,
          -1.319695122324715,
          -1.7210435326456688,
          -1.5462272740269523,
          -0.1514841315379582,
          0.63495269522681,
          -1.6033971649564995,
          -1.349906086559859,
          -1.0003260949495105,
          -0.6040416335891572,
          -1.3476774934660078,
          -0.37929020255607443,
          -1.2495402806641462,
          -1.3681152367390175,
          -1.3593924935795036
         ],
         "z": [
          -0.26524723062069333,
          2.112979218201024,
          0.7167895638679055,
          0.3287642970636208,
          2.8322965132384494,
          -0.6273510715525981,
          -1.571788953361166,
          0.5756272382756241,
          2.1502783165564145,
          -0.2723513202789773,
          -0.7358482512498856,
          -2.083388859009549,
          -0.7014534396717432,
          -1.3284088718574327,
          0.9220946340116305,
          -0.4657606167766633,
          1.5081172440789263,
          -2.501703736641847,
          -0.8405358000345118,
          1.9830147420708732,
          0.9558568768163233,
          -1.4717792410842492,
          -1.217715289696981,
          -0.13499592295196053,
          0.18691992535910937,
          -2.441055796888306
         ]
        }
       ],
       "layout": {
        "legend": {
         "title": {
          "text": "color, symbol"
         },
         "tracegroupgap": 0
        },
        "margin": {
         "t": 60
        },
        "scene": {
         "domain": {
          "x": [
           0,
           1
          ],
          "y": [
           0,
           1
          ]
         },
         "xaxis": {
          "title": {
           "text": "x"
          }
         },
         "yaxis": {
          "title": {
           "text": "y"
          }
         },
         "zaxis": {
          "title": {
           "text": "z"
          }
         }
        },
        "template": {
         "data": {
          "bar": [
           {
            "error_x": {
             "color": "#2a3f5f"
            },
            "error_y": {
             "color": "#2a3f5f"
            },
            "marker": {
             "line": {
              "color": "#E5ECF6",
              "width": 0.5
             },
             "pattern": {
              "fillmode": "overlay",
              "size": 10,
              "solidity": 0.2
             }
            },
            "type": "bar"
           }
          ],
          "barpolar": [
           {
            "marker": {
             "line": {
              "color": "#E5ECF6",
              "width": 0.5
             },
             "pattern": {
              "fillmode": "overlay",
              "size": 10,
              "solidity": 0.2
             }
            },
            "type": "barpolar"
           }
          ],
          "carpet": [
           {
            "aaxis": {
             "endlinecolor": "#2a3f5f",
             "gridcolor": "white",
             "linecolor": "white",
             "minorgridcolor": "white",
             "startlinecolor": "#2a3f5f"
            },
            "baxis": {
             "endlinecolor": "#2a3f5f",
             "gridcolor": "white",
             "linecolor": "white",
             "minorgridcolor": "white",
             "startlinecolor": "#2a3f5f"
            },
            "type": "carpet"
           }
          ],
          "choropleth": [
           {
            "colorbar": {
             "outlinewidth": 0,
             "ticks": ""
            },
            "type": "choropleth"
           }
          ],
          "contour": [
           {
            "colorbar": {
             "outlinewidth": 0,
             "ticks": ""
            },
            "colorscale": [
             [
              0,
              "#0d0887"
             ],
             [
              0.1111111111111111,
              "#46039f"
             ],
             [
              0.2222222222222222,
              "#7201a8"
             ],
             [
              0.3333333333333333,
              "#9c179e"
             ],
             [
              0.4444444444444444,
              "#bd3786"
             ],
             [
              0.5555555555555556,
              "#d8576b"
             ],
             [
              0.6666666666666666,
              "#ed7953"
             ],
             [
              0.7777777777777778,
              "#fb9f3a"
             ],
             [
              0.8888888888888888,
              "#fdca26"
             ],
             [
              1,
              "#f0f921"
             ]
            ],
            "type": "contour"
           }
          ],
          "contourcarpet": [
           {
            "colorbar": {
             "outlinewidth": 0,
             "ticks": ""
            },
            "type": "contourcarpet"
           }
          ],
          "heatmap": [
           {
            "colorbar": {
             "outlinewidth": 0,
             "ticks": ""
            },
            "colorscale": [
             [
              0,
              "#0d0887"
             ],
             [
              0.1111111111111111,
              "#46039f"
             ],
             [
              0.2222222222222222,
              "#7201a8"
             ],
             [
              0.3333333333333333,
              "#9c179e"
             ],
             [
              0.4444444444444444,
              "#bd3786"
             ],
             [
              0.5555555555555556,
              "#d8576b"
             ],
             [
              0.6666666666666666,
              "#ed7953"
             ],
             [
              0.7777777777777778,
              "#fb9f3a"
             ],
             [
              0.8888888888888888,
              "#fdca26"
             ],
             [
              1,
              "#f0f921"
             ]
            ],
            "type": "heatmap"
           }
          ],
          "heatmapgl": [
           {
            "colorbar": {
             "outlinewidth": 0,
             "ticks": ""
            },
            "colorscale": [
             [
              0,
              "#0d0887"
             ],
             [
              0.1111111111111111,
              "#46039f"
             ],
             [
              0.2222222222222222,
              "#7201a8"
             ],
             [
              0.3333333333333333,
              "#9c179e"
             ],
             [
              0.4444444444444444,
              "#bd3786"
             ],
             [
              0.5555555555555556,
              "#d8576b"
             ],
             [
              0.6666666666666666,
              "#ed7953"
             ],
             [
              0.7777777777777778,
              "#fb9f3a"
             ],
             [
              0.8888888888888888,
              "#fdca26"
             ],
             [
              1,
              "#f0f921"
             ]
            ],
            "type": "heatmapgl"
           }
          ],
          "histogram": [
           {
            "marker": {
             "pattern": {
              "fillmode": "overlay",
              "size": 10,
              "solidity": 0.2
             }
            },
            "type": "histogram"
           }
          ],
          "histogram2d": [
           {
            "colorbar": {
             "outlinewidth": 0,
             "ticks": ""
            },
            "colorscale": [
             [
              0,
              "#0d0887"
             ],
             [
              0.1111111111111111,
              "#46039f"
             ],
             [
              0.2222222222222222,
              "#7201a8"
             ],
             [
              0.3333333333333333,
              "#9c179e"
             ],
             [
              0.4444444444444444,
              "#bd3786"
             ],
             [
              0.5555555555555556,
              "#d8576b"
             ],
             [
              0.6666666666666666,
              "#ed7953"
             ],
             [
              0.7777777777777778,
              "#fb9f3a"
             ],
             [
              0.8888888888888888,
              "#fdca26"
             ],
             [
              1,
              "#f0f921"
             ]
            ],
            "type": "histogram2d"
           }
          ],
          "histogram2dcontour": [
           {
            "colorbar": {
             "outlinewidth": 0,
             "ticks": ""
            },
            "colorscale": [
             [
              0,
              "#0d0887"
             ],
             [
              0.1111111111111111,
              "#46039f"
             ],
             [
              0.2222222222222222,
              "#7201a8"
             ],
             [
              0.3333333333333333,
              "#9c179e"
             ],
             [
              0.4444444444444444,
              "#bd3786"
             ],
             [
              0.5555555555555556,
              "#d8576b"
             ],
             [
              0.6666666666666666,
              "#ed7953"
             ],
             [
              0.7777777777777778,
              "#fb9f3a"
             ],
             [
              0.8888888888888888,
              "#fdca26"
             ],
             [
              1,
              "#f0f921"
             ]
            ],
            "type": "histogram2dcontour"
           }
          ],
          "mesh3d": [
           {
            "colorbar": {
             "outlinewidth": 0,
             "ticks": ""
            },
            "type": "mesh3d"
           }
          ],
          "parcoords": [
           {
            "line": {
             "colorbar": {
              "outlinewidth": 0,
              "ticks": ""
             }
            },
            "type": "parcoords"
           }
          ],
          "pie": [
           {
            "automargin": true,
            "type": "pie"
           }
          ],
          "scatter": [
           {
            "fillpattern": {
             "fillmode": "overlay",
             "size": 10,
             "solidity": 0.2
            },
            "type": "scatter"
           }
          ],
          "scatter3d": [
           {
            "line": {
             "colorbar": {
              "outlinewidth": 0,
              "ticks": ""
             }
            },
            "marker": {
             "colorbar": {
              "outlinewidth": 0,
              "ticks": ""
             }
            },
            "type": "scatter3d"
           }
          ],
          "scattercarpet": [
           {
            "marker": {
             "colorbar": {
              "outlinewidth": 0,
              "ticks": ""
             }
            },
            "type": "scattercarpet"
           }
          ],
          "scattergeo": [
           {
            "marker": {
             "colorbar": {
              "outlinewidth": 0,
              "ticks": ""
             }
            },
            "type": "scattergeo"
           }
          ],
          "scattergl": [
           {
            "marker": {
             "colorbar": {
              "outlinewidth": 0,
              "ticks": ""
             }
            },
            "type": "scattergl"
           }
          ],
          "scattermapbox": [
           {
            "marker": {
             "colorbar": {
              "outlinewidth": 0,
              "ticks": ""
             }
            },
            "type": "scattermapbox"
           }
          ],
          "scatterpolar": [
           {
            "marker": {
             "colorbar": {
              "outlinewidth": 0,
              "ticks": ""
             }
            },
            "type": "scatterpolar"
           }
          ],
          "scatterpolargl": [
           {
            "marker": {
             "colorbar": {
              "outlinewidth": 0,
              "ticks": ""
             }
            },
            "type": "scatterpolargl"
           }
          ],
          "scatterternary": [
           {
            "marker": {
             "colorbar": {
              "outlinewidth": 0,
              "ticks": ""
             }
            },
            "type": "scatterternary"
           }
          ],
          "surface": [
           {
            "colorbar": {
             "outlinewidth": 0,
             "ticks": ""
            },
            "colorscale": [
             [
              0,
              "#0d0887"
             ],
             [
              0.1111111111111111,
              "#46039f"
             ],
             [
              0.2222222222222222,
              "#7201a8"
             ],
             [
              0.3333333333333333,
              "#9c179e"
             ],
             [
              0.4444444444444444,
              "#bd3786"
             ],
             [
              0.5555555555555556,
              "#d8576b"
             ],
             [
              0.6666666666666666,
              "#ed7953"
             ],
             [
              0.7777777777777778,
              "#fb9f3a"
             ],
             [
              0.8888888888888888,
              "#fdca26"
             ],
             [
              1,
              "#f0f921"
             ]
            ],
            "type": "surface"
           }
          ],
          "table": [
           {
            "cells": {
             "fill": {
              "color": "#EBF0F8"
             },
             "line": {
              "color": "white"
             }
            },
            "header": {
             "fill": {
              "color": "#C8D4E3"
             },
             "line": {
              "color": "white"
             }
            },
            "type": "table"
           }
          ]
         },
         "layout": {
          "annotationdefaults": {
           "arrowcolor": "#2a3f5f",
           "arrowhead": 0,
           "arrowwidth": 1
          },
          "autotypenumbers": "strict",
          "coloraxis": {
           "colorbar": {
            "outlinewidth": 0,
            "ticks": ""
           }
          },
          "colorscale": {
           "diverging": [
            [
             0,
             "#8e0152"
            ],
            [
             0.1,
             "#c51b7d"
            ],
            [
             0.2,
             "#de77ae"
            ],
            [
             0.3,
             "#f1b6da"
            ],
            [
             0.4,
             "#fde0ef"
            ],
            [
             0.5,
             "#f7f7f7"
            ],
            [
             0.6,
             "#e6f5d0"
            ],
            [
             0.7,
             "#b8e186"
            ],
            [
             0.8,
             "#7fbc41"
            ],
            [
             0.9,
             "#4d9221"
            ],
            [
             1,
             "#276419"
            ]
           ],
           "sequential": [
            [
             0,
             "#0d0887"
            ],
            [
             0.1111111111111111,
             "#46039f"
            ],
            [
             0.2222222222222222,
             "#7201a8"
            ],
            [
             0.3333333333333333,
             "#9c179e"
            ],
            [
             0.4444444444444444,
             "#bd3786"
            ],
            [
             0.5555555555555556,
             "#d8576b"
            ],
            [
             0.6666666666666666,
             "#ed7953"
            ],
            [
             0.7777777777777778,
             "#fb9f3a"
            ],
            [
             0.8888888888888888,
             "#fdca26"
            ],
            [
             1,
             "#f0f921"
            ]
           ],
           "sequentialminus": [
            [
             0,
             "#0d0887"
            ],
            [
             0.1111111111111111,
             "#46039f"
            ],
            [
             0.2222222222222222,
             "#7201a8"
            ],
            [
             0.3333333333333333,
             "#9c179e"
            ],
            [
             0.4444444444444444,
             "#bd3786"
            ],
            [
             0.5555555555555556,
             "#d8576b"
            ],
            [
             0.6666666666666666,
             "#ed7953"
            ],
            [
             0.7777777777777778,
             "#fb9f3a"
            ],
            [
             0.8888888888888888,
             "#fdca26"
            ],
            [
             1,
             "#f0f921"
            ]
           ]
          },
          "colorway": [
           "#636efa",
           "#EF553B",
           "#00cc96",
           "#ab63fa",
           "#FFA15A",
           "#19d3f3",
           "#FF6692",
           "#B6E880",
           "#FF97FF",
           "#FECB52"
          ],
          "font": {
           "color": "#2a3f5f"
          },
          "geo": {
           "bgcolor": "white",
           "lakecolor": "white",
           "landcolor": "#E5ECF6",
           "showlakes": true,
           "showland": true,
           "subunitcolor": "white"
          },
          "hoverlabel": {
           "align": "left"
          },
          "hovermode": "closest",
          "mapbox": {
           "style": "light"
          },
          "paper_bgcolor": "white",
          "plot_bgcolor": "#E5ECF6",
          "polar": {
           "angularaxis": {
            "gridcolor": "white",
            "linecolor": "white",
            "ticks": ""
           },
           "bgcolor": "#E5ECF6",
           "radialaxis": {
            "gridcolor": "white",
            "linecolor": "white",
            "ticks": ""
           }
          },
          "scene": {
           "xaxis": {
            "backgroundcolor": "#E5ECF6",
            "gridcolor": "white",
            "gridwidth": 2,
            "linecolor": "white",
            "showbackground": true,
            "ticks": "",
            "zerolinecolor": "white"
           },
           "yaxis": {
            "backgroundcolor": "#E5ECF6",
            "gridcolor": "white",
            "gridwidth": 2,
            "linecolor": "white",
            "showbackground": true,
            "ticks": "",
            "zerolinecolor": "white"
           },
           "zaxis": {
            "backgroundcolor": "#E5ECF6",
            "gridcolor": "white",
            "gridwidth": 2,
            "linecolor": "white",
            "showbackground": true,
            "ticks": "",
            "zerolinecolor": "white"
           }
          },
          "shapedefaults": {
           "line": {
            "color": "#2a3f5f"
           }
          },
          "ternary": {
           "aaxis": {
            "gridcolor": "white",
            "linecolor": "white",
            "ticks": ""
           },
           "baxis": {
            "gridcolor": "white",
            "linecolor": "white",
            "ticks": ""
           },
           "bgcolor": "#E5ECF6",
           "caxis": {
            "gridcolor": "white",
            "linecolor": "white",
            "ticks": ""
           }
          },
          "title": {
           "x": 0.05
          },
          "xaxis": {
           "automargin": true,
           "gridcolor": "white",
           "linecolor": "white",
           "ticks": "",
           "title": {
            "standoff": 15
           },
           "zerolinecolor": "white",
           "zerolinewidth": 2
          },
          "yaxis": {
           "automargin": true,
           "gridcolor": "white",
           "linecolor": "white",
           "ticks": "",
           "title": {
            "standoff": 15
           },
           "zerolinecolor": "white",
           "zerolinewidth": 2
          }
         }
        }
       }
      },
      "text/html": [
       "<div>                            <div id=\"3f1ce7af-b11b-488c-a544-4accebb13693\" class=\"plotly-graph-div\" style=\"height:525px; width:100%;\"></div>            <script type=\"text/javascript\">                require([\"plotly\"], function(Plotly) {                    window.PLOTLYENV=window.PLOTLYENV || {};                                    if (document.getElementById(\"3f1ce7af-b11b-488c-a544-4accebb13693\")) {                    Plotly.newPlot(                        \"3f1ce7af-b11b-488c-a544-4accebb13693\",                        [{\"hovertemplate\":\"color=True<br>symbol=True<br>x=%{x}<br>y=%{y}<br>z=%{z}<extra></extra>\",\"legendgroup\":\"True, True\",\"marker\":{\"color\":\"#636efa\",\"symbol\":\"circle\"},\"mode\":\"markers\",\"name\":\"True, True\",\"scene\":\"scene\",\"showlegend\":true,\"x\":[-2.142061222804368,-0.2788850593740524,-1.1339295462991883,-1.9601417396381746,-2.4912571688741836,-2.109720147560874,-1.5292909200095182,-2.0970889501753596,-2.3743362512531094,-0.5165268577408281,-0.872063510792363,-1.7320968573028133,-1.4848139033838696,1.4710810294273235,-1.094270743741541,-1.2217187520757455,-2.3699082026471294,-2.191498902051234,-2.5161795727043144,1.6387514938543788,-2.8290937064589614,-1.9939007341064992,-3.21911229729201,-1.3779870524883913,1.044821259432537,1.408552530439225,-0.738388881153103,-0.8261841384271181,-1.033720981931328,-1.7016576183621068,-2.0950915308873785,0.2187061365868879,2.637386870749436,-2.043947911960358,3.073627310340763,-1.439465197552536,-2.624504995805676,-1.788094996659109,-1.9461032946531007,-1.4009726299088932,-1.077787443764992,1.0149558598695099,-2.151892299028087,-0.3167860775371069,-2.1522180712150387,-2.359071835910412,-1.8135723288618042,-1.6390574047157687,-2.2240365652497927,-0.28691084448971593,-2.752062563119161,-0.5840291239943546,0.1990541240032563,-3.3858774649614336,-2.628953456463179,2.9572791118446653,-0.15652348016797996,-0.26288508177645553,-2.4388577673249725,-1.2208955015128193,-1.9333258947417138,-0.06279691268785986,-2.6005414687383017,0.12343188988732803,-2.0576682300049036,-1.3827806527589706,-2.7282509965305146,-0.5547411196159328,-2.931295648259674,-1.0238914893235538,-2.7790893219447335,-2.7029939866243993,1.1058602750143005,0.18866786774916114,0.005899955299259986,2.5461442115499406,-0.16830278414921468,-0.06790255632147889,0.5283058877741894,2.360237527833265,1.556870750392642,-1.7629327598001685,0.8063355102367988,5.212146062120205,-3.094220988354081,2.3030774283782534,0.031888807710737654,-0.13537106510706623,-0.422461984430368,0.46447079192889795,-0.9190218051026947,0.3504839754869839,-1.0528804934630474,-0.7987797158461346,0.6190194638080537,3.8617179052557056,-0.5005458769520165,-0.12429674753474164,0.24036328675390706,0.4128309803367041,1.5815952207400532,-0.706927337564746,2.7453510405541985,0.11153289003620338,2.6884832359174746,-0.17481140188954664,0.954079197278868,-1.7680856541793752,4.102406881300945,1.9527884751374964,-0.4601992512456719,-0.7592469683523794,-1.7482303203495932,-0.011488457836632876,0.8555318923294544,1.6802645140039274],\"y\":[4.056884047972318,0.05337063193386244,-0.7215214231816292,-1.097808200917538,-1.1714804816333817,-0.5896628189288335,-0.46205334626712946,-0.5592135183711792,0.3997998424809915,-0.012172694948355458,-0.02024169978461673,0.12511527160396047,-0.43057848928025383,-1.1296503873683397,-0.686266022240865,-0.29527198959174444,-1.4542786973068162,0.35562899126734243,3.897023594449072,1.3991083399984987,-1.157165582562688,-0.960154209077328,3.892431375075637,0.10859254433655291,0.730509880267174,3.560592465942414,0.41077726141072174,0.09489945304022945,4.063018136182299,3.9246091762371798,-0.8837242710762002,0.4791180937618053,6.019472113316227,-0.7530648976893157,-0.6145129842682804,-0.4718913061389803,-1.183109716995959,-0.4278484807539495,-1.2049916522550186,-0.07803877094573872,-0.44932836103170287,4.261278513573277,-0.707962477528221,0.11352642355466186,-0.9718230430105087,-1.2170559181174463,-0.8375211061696293,0.056371595724761976,-0.3114307781273247,-0.34868707228217855,-0.2949643880405243,0.8025235044281908,3.720521021925047,-1.1362361192280954,-1.1093234489460801,-0.8348591773852029,0.13109723874984697,-0.6020631264305568,-0.5461393133725334,-0.9647355505271298,-1.0351402584275784,-0.4434151709683042,-0.5649099975166739,0.04169111780566651,-0.8078976191109103,-0.19839051508316555,3.603675101487208,0.4260967768382263,-0.47271532927100146,0.163522954100294,-1.0437487167801993,-0.3006149743860484,3.9467072425892114,0.5348364190212791,0.41345787086975033,4.535203660793968,-1.2106784309876226,0.7116753155119958,0.5034107636991185,0.3566428576883753,0.4888892927472968,-0.8727859756782818,-0.022875319860789136,0.025458188273734948,-0.48955193882275,-0.19850833193592576,0.40185380398765774,-0.6628488060594394,-0.8041008286858977,-0.10952412420229603,-1.262951758698164,2.818105720997325,-0.3527598112616647,-1.202037177974081,-0.2294967687282311,0.0802444040095428,-1.142488679733801,-0.6487813143599378,-0.5212688216560203,4.214383425712093,-1.279789358434506,-1.3154161472067483,0.02148394893409825,-0.32391084845162277,0.05570631780506614,-0.07194366517532744,-1.2932758901607933,-0.8570817499044247,0.22628541151899945,-1.1285608530934528,-0.5593787764969979,-0.036728644310382495,-1.4080201714829725,-0.4912574362946523,0.11510250269277383,3.050001799285559],\"z\":[-0.9169997032252234,-0.3283973985775188,-1.2707066089589225,0.5077210289061855,0.44638930716096936,-0.8217145225822943,1.0186193702949866,-0.7749715397149656,2.2391373948635223,1.5772807719371846,-0.6486374912133388,0.2368612379600665,-0.7925997103358579,2.376006691501772,-1.2202673397901596,1.6521485400952776,0.25460746005332285,1.9787307545402104,-1.1803502508293917,1.2406503406681606,0.7041271336683725,-1.6435972689288052,-1.0059359113722088,0.9135165757387367,1.432792839327944,-2.1977326686042598,0.47598400448392175,0.08038970363718728,-0.24822938881398468,-1.142575061429463,0.8791884992179941,0.8497758827145506,1.4884497300034918,-0.7501110187265113,-1.2251803143856708,-1.2001583724292877,0.42730028689268906,-0.39266434705255854,0.3734766310959162,0.17434297509274888,1.2305190385314517,-0.36775050699757633,0.5389737603016085,2.7052072049863662,0.8067348092555668,0.30387182558072795,-1.3695005411408194,1.223321125354167,-0.31296317602453944,2.6296564170480705,-0.6231970355545763,0.6831348796747312,-1.6754304475410249,0.8093523343834799,0.6324418195688611,1.572164801758263,0.8468412521848557,-0.6397711490867602,-0.8675808330211506,-1.1644100251212068,0.5984690781269962,-0.14177742093284287,-0.8440046001632399,2.930844145833778,-1.4394872072126237,2.004879504274605,0.6022995687527046,2.0466873545444133,-0.8319477293316068,0.9718454661055751,0.9701052446744775,-0.02696099721058991,-1.179911182264259,1.7985825545025957,3.3802551990497007,-1.9634310305821678,-1.4752313606465313,3.5992365743844523,1.049672403200471,0.44561069928511843,-0.7055778883219068,-1.2477535637864512,0.16388775844398304,0.18229276969958638,-1.1209043447289158,1.1384248108737651,-0.05992582017635433,-2.859749350334958,-1.1400276804659617,-0.9373620919146863,0.4139450256704731,-2.4478998011507516,-0.42253196184953445,-1.904314272196645,-0.665308385722249,1.2155520647013454,-2.4114789953234133,1.0638766196535778,-1.8489913225950187,2.1339143034810713,-0.604935138586395,-2.533654608216554,0.5934293879488153,-1.0670157153097193,-0.7853343324058594,-0.9921952317318617,0.13500788428487248,-1.3358519689890096,2.7459623785273495,-2.3878442684144874,1.2441611717718526,-0.003940304039692079,-0.06592072271557496,-1.1277286427069217,0.024161825126472313,-3.015743817779913],\"type\":\"scatter3d\"},{\"hovertemplate\":\"color=False<br>symbol=False<br>x=%{x}<br>y=%{y}<br>z=%{z}<extra></extra>\",\"legendgroup\":\"False, False\",\"marker\":{\"color\":\"#EF553B\",\"symbol\":\"diamond\"},\"mode\":\"markers\",\"name\":\"False, False\",\"scene\":\"scene\",\"showlegend\":true,\"x\":[1.12780358028458,0.8520668785109973,-1.3670799551155624,3.0671243712006824,1.254391598514756,1.9155085854723621,2.0745592989373987,4.085286088041023,3.661349735003516,4.1349380030961616,2.5895039687739643,0.4203033179504474,5.323384680779153,3.4048934997443374,1.1689714385445684,0.868143811755157,2.6743346200789833,3.9782333774856617,3.382307222649914,3.487613629358358,-0.8812776035689281,4.230547449366958,2.030256385651787,3.385362682824421,5.9607497536805205,2.175235405493679],\"y\":[0.02849041738362221,0.38696766874433225,-0.7547858112931648,-1.0860609348811192,0.5713080914332436,0.6247998094109707,-0.7499238257587486,-0.7411865633445276,-1.1364195809636655,-0.6815443488011584,0.07798281127495338,-1.5054623614558467,-1.319695122324715,-1.7210435326456688,-1.5462272740269523,-0.1514841315379582,0.63495269522681,-1.6033971649564995,-1.349906086559859,-1.0003260949495105,-0.6040416335891572,-1.3476774934660078,-0.37929020255607443,-1.2495402806641462,-1.3681152367390175,-1.3593924935795036],\"z\":[-0.26524723062069333,2.112979218201024,0.7167895638679055,0.3287642970636208,2.8322965132384494,-0.6273510715525981,-1.571788953361166,0.5756272382756241,2.1502783165564145,-0.2723513202789773,-0.7358482512498856,-2.083388859009549,-0.7014534396717432,-1.3284088718574327,0.9220946340116305,-0.4657606167766633,1.5081172440789263,-2.501703736641847,-0.8405358000345118,1.9830147420708732,0.9558568768163233,-1.4717792410842492,-1.217715289696981,-0.13499592295196053,0.18691992535910937,-2.441055796888306],\"type\":\"scatter3d\"}],                        {\"template\":{\"data\":{\"histogram2dcontour\":[{\"type\":\"histogram2dcontour\",\"colorbar\":{\"outlinewidth\":0,\"ticks\":\"\"},\"colorscale\":[[0.0,\"#0d0887\"],[0.1111111111111111,\"#46039f\"],[0.2222222222222222,\"#7201a8\"],[0.3333333333333333,\"#9c179e\"],[0.4444444444444444,\"#bd3786\"],[0.5555555555555556,\"#d8576b\"],[0.6666666666666666,\"#ed7953\"],[0.7777777777777778,\"#fb9f3a\"],[0.8888888888888888,\"#fdca26\"],[1.0,\"#f0f921\"]]}],\"choropleth\":[{\"type\":\"choropleth\",\"colorbar\":{\"outlinewidth\":0,\"ticks\":\"\"}}],\"histogram2d\":[{\"type\":\"histogram2d\",\"colorbar\":{\"outlinewidth\":0,\"ticks\":\"\"},\"colorscale\":[[0.0,\"#0d0887\"],[0.1111111111111111,\"#46039f\"],[0.2222222222222222,\"#7201a8\"],[0.3333333333333333,\"#9c179e\"],[0.4444444444444444,\"#bd3786\"],[0.5555555555555556,\"#d8576b\"],[0.6666666666666666,\"#ed7953\"],[0.7777777777777778,\"#fb9f3a\"],[0.8888888888888888,\"#fdca26\"],[1.0,\"#f0f921\"]]}],\"heatmap\":[{\"type\":\"heatmap\",\"colorbar\":{\"outlinewidth\":0,\"ticks\":\"\"},\"colorscale\":[[0.0,\"#0d0887\"],[0.1111111111111111,\"#46039f\"],[0.2222222222222222,\"#7201a8\"],[0.3333333333333333,\"#9c179e\"],[0.4444444444444444,\"#bd3786\"],[0.5555555555555556,\"#d8576b\"],[0.6666666666666666,\"#ed7953\"],[0.7777777777777778,\"#fb9f3a\"],[0.8888888888888888,\"#fdca26\"],[1.0,\"#f0f921\"]]}],\"heatmapgl\":[{\"type\":\"heatmapgl\",\"colorbar\":{\"outlinewidth\":0,\"ticks\":\"\"},\"colorscale\":[[0.0,\"#0d0887\"],[0.1111111111111111,\"#46039f\"],[0.2222222222222222,\"#7201a8\"],[0.3333333333333333,\"#9c179e\"],[0.4444444444444444,\"#bd3786\"],[0.5555555555555556,\"#d8576b\"],[0.6666666666666666,\"#ed7953\"],[0.7777777777777778,\"#fb9f3a\"],[0.8888888888888888,\"#fdca26\"],[1.0,\"#f0f921\"]]}],\"contourcarpet\":[{\"type\":\"contourcarpet\",\"colorbar\":{\"outlinewidth\":0,\"ticks\":\"\"}}],\"contour\":[{\"type\":\"contour\",\"colorbar\":{\"outlinewidth\":0,\"ticks\":\"\"},\"colorscale\":[[0.0,\"#0d0887\"],[0.1111111111111111,\"#46039f\"],[0.2222222222222222,\"#7201a8\"],[0.3333333333333333,\"#9c179e\"],[0.4444444444444444,\"#bd3786\"],[0.5555555555555556,\"#d8576b\"],[0.6666666666666666,\"#ed7953\"],[0.7777777777777778,\"#fb9f3a\"],[0.8888888888888888,\"#fdca26\"],[1.0,\"#f0f921\"]]}],\"surface\":[{\"type\":\"surface\",\"colorbar\":{\"outlinewidth\":0,\"ticks\":\"\"},\"colorscale\":[[0.0,\"#0d0887\"],[0.1111111111111111,\"#46039f\"],[0.2222222222222222,\"#7201a8\"],[0.3333333333333333,\"#9c179e\"],[0.4444444444444444,\"#bd3786\"],[0.5555555555555556,\"#d8576b\"],[0.6666666666666666,\"#ed7953\"],[0.7777777777777778,\"#fb9f3a\"],[0.8888888888888888,\"#fdca26\"],[1.0,\"#f0f921\"]]}],\"mesh3d\":[{\"type\":\"mesh3d\",\"colorbar\":{\"outlinewidth\":0,\"ticks\":\"\"}}],\"scatter\":[{\"fillpattern\":{\"fillmode\":\"overlay\",\"size\":10,\"solidity\":0.2},\"type\":\"scatter\"}],\"parcoords\":[{\"type\":\"parcoords\",\"line\":{\"colorbar\":{\"outlinewidth\":0,\"ticks\":\"\"}}}],\"scatterpolargl\":[{\"type\":\"scatterpolargl\",\"marker\":{\"colorbar\":{\"outlinewidth\":0,\"ticks\":\"\"}}}],\"bar\":[{\"error_x\":{\"color\":\"#2a3f5f\"},\"error_y\":{\"color\":\"#2a3f5f\"},\"marker\":{\"line\":{\"color\":\"#E5ECF6\",\"width\":0.5},\"pattern\":{\"fillmode\":\"overlay\",\"size\":10,\"solidity\":0.2}},\"type\":\"bar\"}],\"scattergeo\":[{\"type\":\"scattergeo\",\"marker\":{\"colorbar\":{\"outlinewidth\":0,\"ticks\":\"\"}}}],\"scatterpolar\":[{\"type\":\"scatterpolar\",\"marker\":{\"colorbar\":{\"outlinewidth\":0,\"ticks\":\"\"}}}],\"histogram\":[{\"marker\":{\"pattern\":{\"fillmode\":\"overlay\",\"size\":10,\"solidity\":0.2}},\"type\":\"histogram\"}],\"scattergl\":[{\"type\":\"scattergl\",\"marker\":{\"colorbar\":{\"outlinewidth\":0,\"ticks\":\"\"}}}],\"scatter3d\":[{\"type\":\"scatter3d\",\"line\":{\"colorbar\":{\"outlinewidth\":0,\"ticks\":\"\"}},\"marker\":{\"colorbar\":{\"outlinewidth\":0,\"ticks\":\"\"}}}],\"scattermapbox\":[{\"type\":\"scattermapbox\",\"marker\":{\"colorbar\":{\"outlinewidth\":0,\"ticks\":\"\"}}}],\"scatterternary\":[{\"type\":\"scatterternary\",\"marker\":{\"colorbar\":{\"outlinewidth\":0,\"ticks\":\"\"}}}],\"scattercarpet\":[{\"type\":\"scattercarpet\",\"marker\":{\"colorbar\":{\"outlinewidth\":0,\"ticks\":\"\"}}}],\"carpet\":[{\"aaxis\":{\"endlinecolor\":\"#2a3f5f\",\"gridcolor\":\"white\",\"linecolor\":\"white\",\"minorgridcolor\":\"white\",\"startlinecolor\":\"#2a3f5f\"},\"baxis\":{\"endlinecolor\":\"#2a3f5f\",\"gridcolor\":\"white\",\"linecolor\":\"white\",\"minorgridcolor\":\"white\",\"startlinecolor\":\"#2a3f5f\"},\"type\":\"carpet\"}],\"table\":[{\"cells\":{\"fill\":{\"color\":\"#EBF0F8\"},\"line\":{\"color\":\"white\"}},\"header\":{\"fill\":{\"color\":\"#C8D4E3\"},\"line\":{\"color\":\"white\"}},\"type\":\"table\"}],\"barpolar\":[{\"marker\":{\"line\":{\"color\":\"#E5ECF6\",\"width\":0.5},\"pattern\":{\"fillmode\":\"overlay\",\"size\":10,\"solidity\":0.2}},\"type\":\"barpolar\"}],\"pie\":[{\"automargin\":true,\"type\":\"pie\"}]},\"layout\":{\"autotypenumbers\":\"strict\",\"colorway\":[\"#636efa\",\"#EF553B\",\"#00cc96\",\"#ab63fa\",\"#FFA15A\",\"#19d3f3\",\"#FF6692\",\"#B6E880\",\"#FF97FF\",\"#FECB52\"],\"font\":{\"color\":\"#2a3f5f\"},\"hovermode\":\"closest\",\"hoverlabel\":{\"align\":\"left\"},\"paper_bgcolor\":\"white\",\"plot_bgcolor\":\"#E5ECF6\",\"polar\":{\"bgcolor\":\"#E5ECF6\",\"angularaxis\":{\"gridcolor\":\"white\",\"linecolor\":\"white\",\"ticks\":\"\"},\"radialaxis\":{\"gridcolor\":\"white\",\"linecolor\":\"white\",\"ticks\":\"\"}},\"ternary\":{\"bgcolor\":\"#E5ECF6\",\"aaxis\":{\"gridcolor\":\"white\",\"linecolor\":\"white\",\"ticks\":\"\"},\"baxis\":{\"gridcolor\":\"white\",\"linecolor\":\"white\",\"ticks\":\"\"},\"caxis\":{\"gridcolor\":\"white\",\"linecolor\":\"white\",\"ticks\":\"\"}},\"coloraxis\":{\"colorbar\":{\"outlinewidth\":0,\"ticks\":\"\"}},\"colorscale\":{\"sequential\":[[0.0,\"#0d0887\"],[0.1111111111111111,\"#46039f\"],[0.2222222222222222,\"#7201a8\"],[0.3333333333333333,\"#9c179e\"],[0.4444444444444444,\"#bd3786\"],[0.5555555555555556,\"#d8576b\"],[0.6666666666666666,\"#ed7953\"],[0.7777777777777778,\"#fb9f3a\"],[0.8888888888888888,\"#fdca26\"],[1.0,\"#f0f921\"]],\"sequentialminus\":[[0.0,\"#0d0887\"],[0.1111111111111111,\"#46039f\"],[0.2222222222222222,\"#7201a8\"],[0.3333333333333333,\"#9c179e\"],[0.4444444444444444,\"#bd3786\"],[0.5555555555555556,\"#d8576b\"],[0.6666666666666666,\"#ed7953\"],[0.7777777777777778,\"#fb9f3a\"],[0.8888888888888888,\"#fdca26\"],[1.0,\"#f0f921\"]],\"diverging\":[[0,\"#8e0152\"],[0.1,\"#c51b7d\"],[0.2,\"#de77ae\"],[0.3,\"#f1b6da\"],[0.4,\"#fde0ef\"],[0.5,\"#f7f7f7\"],[0.6,\"#e6f5d0\"],[0.7,\"#b8e186\"],[0.8,\"#7fbc41\"],[0.9,\"#4d9221\"],[1,\"#276419\"]]},\"xaxis\":{\"gridcolor\":\"white\",\"linecolor\":\"white\",\"ticks\":\"\",\"title\":{\"standoff\":15},\"zerolinecolor\":\"white\",\"automargin\":true,\"zerolinewidth\":2},\"yaxis\":{\"gridcolor\":\"white\",\"linecolor\":\"white\",\"ticks\":\"\",\"title\":{\"standoff\":15},\"zerolinecolor\":\"white\",\"automargin\":true,\"zerolinewidth\":2},\"scene\":{\"xaxis\":{\"backgroundcolor\":\"#E5ECF6\",\"gridcolor\":\"white\",\"linecolor\":\"white\",\"showbackground\":true,\"ticks\":\"\",\"zerolinecolor\":\"white\",\"gridwidth\":2},\"yaxis\":{\"backgroundcolor\":\"#E5ECF6\",\"gridcolor\":\"white\",\"linecolor\":\"white\",\"showbackground\":true,\"ticks\":\"\",\"zerolinecolor\":\"white\",\"gridwidth\":2},\"zaxis\":{\"backgroundcolor\":\"#E5ECF6\",\"gridcolor\":\"white\",\"linecolor\":\"white\",\"showbackground\":true,\"ticks\":\"\",\"zerolinecolor\":\"white\",\"gridwidth\":2}},\"shapedefaults\":{\"line\":{\"color\":\"#2a3f5f\"}},\"annotationdefaults\":{\"arrowcolor\":\"#2a3f5f\",\"arrowhead\":0,\"arrowwidth\":1},\"geo\":{\"bgcolor\":\"white\",\"landcolor\":\"#E5ECF6\",\"subunitcolor\":\"white\",\"showland\":true,\"showlakes\":true,\"lakecolor\":\"white\"},\"title\":{\"x\":0.05},\"mapbox\":{\"style\":\"light\"}}},\"scene\":{\"domain\":{\"x\":[0.0,1.0],\"y\":[0.0,1.0]},\"xaxis\":{\"title\":{\"text\":\"x\"}},\"yaxis\":{\"title\":{\"text\":\"y\"}},\"zaxis\":{\"title\":{\"text\":\"z\"}}},\"legend\":{\"title\":{\"text\":\"color, symbol\"},\"tracegroupgap\":0},\"margin\":{\"t\":60}},                        {\"responsive\": true}                    ).then(function(){\n",
       "                            \n",
       "var gd = document.getElementById('3f1ce7af-b11b-488c-a544-4accebb13693');\n",
       "var x = new MutationObserver(function (mutations, observer) {{\n",
       "        var display = window.getComputedStyle(gd).display;\n",
       "        if (!display || display === 'none') {{\n",
       "            console.log([gd, 'removed!']);\n",
       "            Plotly.purge(gd);\n",
       "            observer.disconnect();\n",
       "        }}\n",
       "}});\n",
       "\n",
       "// Listen for the removal of the full notebook cells\n",
       "var notebookContainer = gd.closest('#notebook-container');\n",
       "if (notebookContainer) {{\n",
       "    x.observe(notebookContainer, {childList: true});\n",
       "}}\n",
       "\n",
       "// Listen for the clearing of the current output cell\n",
       "var outputEl = gd.closest('.output');\n",
       "if (outputEl) {{\n",
       "    x.observe(outputEl, {childList: true});\n",
       "}}\n",
       "\n",
       "                        })                };                });            </script>        </div>"
      ]
     },
     "metadata": {},
     "output_type": "display_data"
    }
   ],
   "source": [
    "from sklearn.decomposition import PCA\n",
    "pca = PCA(n_components=3)\n",
    "pca.fit(scaledX)\n",
    "pca_3d = pca.transform(scaledX)\n",
    "\n",
    "px.scatter_3d(x=pca_3d[:,0], y=pca_3d[:,1], z=pca_3d[:,2],color=y,symbol=y,)\n",
    "\n"
   ]
  },
  {
   "cell_type": "code",
   "execution_count": 19,
   "metadata": {},
   "outputs": [
    {
     "name": "stdout",
     "output_type": "stream",
     "text": [
      "75.86206896551724\n"
     ]
    }
   ],
   "source": [
    "lr = LogisticRegression()\n",
    "lr.fit(xtrain,ytrain)\n",
    "lr_pred = lr.predict(xtest)\n",
    "print(accuracy_score(ytest,lr_pred)*100)"
   ]
  },
  {
   "cell_type": "code",
   "execution_count": 20,
   "metadata": {},
   "outputs": [
    {
     "name": "stdout",
     "output_type": "stream",
     "text": [
      "89.65517241379311\n"
     ]
    }
   ],
   "source": [
    "knn = KNeighborsClassifier()\n",
    "knn.fit(xtrain,ytrain)\n",
    "knn_pred = knn.predict(xtest)\n",
    "print(accuracy_score(ytest,knn_pred)*100)"
   ]
  },
  {
   "cell_type": "code",
   "execution_count": 21,
   "metadata": {},
   "outputs": [
    {
     "name": "stdout",
     "output_type": "stream",
     "text": [
      "89.65517241379311\n"
     ]
    }
   ],
   "source": [
    "rf = RandomForestClassifier()\n",
    "rf.fit(xtrain,ytrain)\n",
    "rf_pred = rf.predict(xtest)\n",
    "print(accuracy_score(ytest,rf_pred)*100)"
   ]
  },
  {
   "cell_type": "code",
   "execution_count": 22,
   "metadata": {},
   "outputs": [
    {
     "name": "stdout",
     "output_type": "stream",
     "text": [
      "68.96551724137932\n"
     ]
    }
   ],
   "source": [
    "dt=DecisionTreeClassifier(max_depth=15)\n",
    "dt.fit(xtrain,ytrain)\n",
    "dt_pred = dt.predict(xtest)\n",
    "print(accuracy_score(ytest,dt_pred)*100)"
   ]
  },
  {
   "cell_type": "code",
   "execution_count": 27,
   "metadata": {},
   "outputs": [
    {
     "name": "stdout",
     "output_type": "stream",
     "text": [
      "93.10344827586206\n"
     ]
    }
   ],
   "source": [
    "svc = SVC(gamma='auto',kernel='poly',degree=3)\n",
    "svc.fit(xtrain,ytrain)\n",
    "svc_pred = svc.predict(xtest)\n",
    "print(accuracy_score(ytest, svc_pred)*100)"
   ]
  },
  {
   "cell_type": "code",
   "execution_count": 28,
   "metadata": {},
   "outputs": [],
   "source": [
    "cm_lr = confusion_matrix(ytest, lr_pred)\n",
    "cm_knn = confusion_matrix(ytest, knn_pred)\n",
    "cm_rf = confusion_matrix(ytest, rf_pred)\n",
    "cm_dt = confusion_matrix(ytest, dt_pred)\n",
    "cm_svc = confusion_matrix(ytest, svc_pred)"
   ]
  },
  {
   "cell_type": "code",
   "execution_count": 32,
   "metadata": {},
   "outputs": [
    {
     "name": "stdout",
     "output_type": "stream",
     "text": [
      "[[ 1  4]\n",
      " [ 3 21]] \n",
      " [[ 3  2]\n",
      " [ 1 23]] \n",
      " [[ 3  2]\n",
      " [ 1 23]] \n",
      " [[ 3  2]\n",
      " [ 7 17]] \n",
      " [[ 3  2]\n",
      " [ 0 24]]\n"
     ]
    }
   ],
   "source": [
    "print(f'{cm_lr} \\n {cm_knn} \\n {cm_rf} \\n {cm_dt} \\n {cm_svc}')"
   ]
  },
  {
   "cell_type": "code",
   "execution_count": null,
   "metadata": {},
   "outputs": [],
   "source": []
  }
 ],
 "metadata": {
  "interpreter": {
   "hash": "d62006d1f3422635846181a997a61e8ec3049f797e5d7dfe0cd1bb84092b7c19"
  },
  "kernelspec": {
   "display_name": "Python 3.9.7 64-bit",
   "language": "python",
   "name": "python3"
  },
  "language_info": {
   "codemirror_mode": {
    "name": "ipython",
    "version": 3
   },
   "file_extension": ".py",
   "mimetype": "text/x-python",
   "name": "python",
   "nbconvert_exporter": "python",
   "pygments_lexer": "ipython3",
   "version": "3.9.5"
  },
  "orig_nbformat": 4
 },
 "nbformat": 4,
 "nbformat_minor": 2
}
